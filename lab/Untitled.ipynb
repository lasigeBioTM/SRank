{
 "cells": [
  {
   "cell_type": "code",
   "execution_count": 45,
   "id": "5f55ff72-051e-41d4-bd28-032e8e7dd2f5",
   "metadata": {},
   "outputs": [],
   "source": [
    "import json\n",
    "import seaborn as sns\n",
    "import spacy\n",
    "from tqdm.auto import tqdm\n",
    "import matplotlib.pyplot as plt\n",
    "import numpy as np"
   ]
  },
  {
   "cell_type": "code",
   "execution_count": 3,
   "id": "becd121d-4ab4-49e3-8a71-5d411be45381",
   "metadata": {},
   "outputs": [],
   "source": [
    "with open('../results/output.jsonl') as f:\n",
    "    items = [\n",
    "        item\n",
    "        for line in f\n",
    "        for item in json.loads(line)\n",
    "    ]"
   ]
  },
  {
   "cell_type": "code",
   "execution_count": 5,
   "id": "e8e32342-9b6c-493c-8c76-efe11980bb48",
   "metadata": {},
   "outputs": [],
   "source": [
    "nlp = spacy.load('en_core_web_lg')"
   ]
  },
  {
   "cell_type": "code",
   "execution_count": 35,
   "id": "3ddc147b-ab73-4e11-8945-73c278bf8d62",
   "metadata": {},
   "outputs": [],
   "source": [
    "def ignore_token(token):\n",
    "    return (\n",
    "        token.is_bracket or\n",
    "        token.is_currency or\n",
    "        token.is_left_punct or\n",
    "        token.is_right_punct or\n",
    "        token.is_punct or\n",
    "        token.is_space or\n",
    "        token.is_stop\n",
    "    )"
   ]
  },
  {
   "cell_type": "code",
   "execution_count": 40,
   "id": "dedf87fa-1c5c-4991-b813-9212cc42af5f",
   "metadata": {},
   "outputs": [],
   "source": [
    "def count_tokens(text):\n",
    "    doc = nlp(text, disable=[\n",
    "        'tagger',\n",
    "        'parser',\n",
    "        'ner',\n",
    "        'attribute_ruler',\n",
    "        'lemmatizer',\n",
    "    ])\n",
    "    \n",
    "    return len(doc)\n",
    "\n",
    "def count_chars(text):\n",
    "    return len(text)"
   ]
  },
  {
   "cell_type": "code",
   "execution_count": 41,
   "id": "d3153cf4-b1fd-4d45-b306-c795f9297c4e",
   "metadata": {},
   "outputs": [
    {
     "data": {
      "application/vnd.jupyter.widget-view+json": {
       "model_id": "b8f40fab5b7745a498726539452186db",
       "version_major": 2,
       "version_minor": 0
      },
      "text/plain": [
       "  0%|          | 0/73641 [00:00<?, ?it/s]"
      ]
     },
     "metadata": {},
     "output_type": "display_data"
    }
   ],
   "source": [
    "token_sizes = []\n",
    "char_sizes = []\n",
    "\n",
    "for item in tqdm(items):\n",
    "    text = item['snippet']['text']\n",
    "    \n",
    "    token_sizes.append(count_tokens(text))\n",
    "    char_sizes.append(count_chars(text))"
   ]
  },
  {
   "cell_type": "code",
   "execution_count": 47,
   "id": "b64e0883-4f37-44a9-9516-adc380aeae6a",
   "metadata": {},
   "outputs": [
    {
     "data": {
      "text/plain": [
       "<AxesSubplot:ylabel='Count'>"
      ]
     },
     "execution_count": 47,
     "metadata": {},
     "output_type": "execute_result"
    },
    {
     "data": {
      "image/png": "[encoded data removed]",
      "text/plain": [
       "<Figure size 432x288 with 1 Axes>"
      ]
     },
     "metadata": {
      "needs_background": "light"
     },
     "output_type": "display_data"
    }
   ],
   "source": [
    "sns.histplot(np.log2(token_sizes))\n",
    "\n",
    "#plt.gca().set(xscale='log')"
   ]
  },
  {
   "cell_type": "markdown",
   "id": "957603b1-3fa5-4901-8f9a-7f5024a8b44e",
   "metadata": {},
   "source": [
    "Anything with less than $2^3=8$ tokens, as defined by nlp, will not be considered. They seem to be flukes."
   ]
  },
  {
   "cell_type": "code",
   "execution_count": 48,
   "id": "059464a3-26f4-495b-8866-25e30e681fd0",
   "metadata": {},
   "outputs": [
    {
     "data": {
      "text/plain": [
       "<AxesSubplot:ylabel='Count'>"
      ]
     },
     "execution_count": 48,
     "metadata": {},
     "output_type": "execute_result"
    },
    {
     "data": {
      "image/png": "[encoded data removed]",
      "text/plain": [
       "<Figure size 432x288 with 1 Axes>"
      ]
     },
     "metadata": {
      "needs_background": "light"
     },
     "output_type": "display_data"
    }
   ],
   "source": [
    "sns.histplot(np.log2(char_sizes))"
   ]
  },
  {
   "cell_type": "markdown",
   "id": "4ac3e10c-8659-4c5b-b953-725a40ef06fc",
   "metadata": {},
   "source": [
    "Anything will less than $2^4=16$ characters will also not be considered"
   ]
  }
 ],
 "metadata": {
  "kernelspec": {
   "display_name": "Python 3",
   "language": "python",
   "name": "python3"
  },
  "language_info": {
   "codemirror_mode": {
    "name": "ipython",
    "version": 3
   },
   "file_extension": ".py",
   "mimetype": "text/x-python",
   "name": "python",
   "nbconvert_exporter": "python",
   "pygments_lexer": "ipython3",
   "version": "3.9.5"
  }
 },
 "nbformat": 4,
 "nbformat_minor": 5
}
